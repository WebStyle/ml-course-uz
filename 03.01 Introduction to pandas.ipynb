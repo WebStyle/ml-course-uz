{
 "cells": [
  {
   "cell_type": "markdown",
   "metadata": {},
   "source": [
    "# Введение в pandas\n",
    "Как мы видели до этого NumPy позволяет эффективно хранить многомерные массивы и выполнять векторизованные операции над ними. Это необходимо для работы различных научных библиотек и методов машинного обучения. Однако данные в реальном мире не хранятся в виде многомерных массивов чисел, готовых для подачи в функции библиотек машинного обучения. Обычно данные могут хранится в разрозненных файлах (например, `csv`, `json`, `excel`) или часто в реляционных СУБД. Перед тем, как начать создавать обучающие модели необходимо выгрузить, объединить в единую структуру, провести очистку, анализ, предобработку данных. Для этого существует pandas.\n",
    "\n",
    "Pandas - библиотека для анализа и манипуляции данных. Он работает поверх NumPy включая в себя все его преимущества и дополняя обширной функциональностью. Pandas позволяет загружать данные из [различных источников](https://pandas.pydata.org/pandas-docs/stable/io.html) (`csv`, `json`, `excel`, `SQL`), [объединять различные данные](https://pandas.pydata.org/pandas-docs/stable/merging.html) в единую структуру, включает в себя готовые функции для вычисления всевозможных [статистических показателей](https://pandas.pydata.org/pandas-docs/stable/computation.html), позволяет работать над [иерархической структурой](https://pandas.pydata.org/pandas-docs/stable/advanced.html) данных, включает в себя очень мощный механизм [группировки и трансформации](https://pandas.pydata.org/pandas-docs/stable/groupby.html) данных.\n",
    "\n",
    "Начнем, как обычно, с импорта библиотеки и проверим версию pandas"
   ]
  },
  {
   "cell_type": "code",
   "execution_count": 1,
   "metadata": {
    "ExecuteTime": {
     "end_time": "2017-12-09T07:46:58.552410Z",
     "start_time": "2017-12-09T07:46:55.679411Z"
    }
   },
   "outputs": [
    {
     "data": {
      "text/plain": [
       "'0.20.3'"
      ]
     },
     "execution_count": 1,
     "metadata": {},
     "output_type": "execute_result"
    }
   ],
   "source": [
    "import numpy as np\n",
    "import pandas\n",
    "pandas.__version__"
   ]
  },
  {
   "cell_type": "markdown",
   "metadata": {
    "ExecuteTime": {
     "end_time": "2017-12-08T07:13:13.036049Z",
     "start_time": "2017-12-08T07:13:13.031051Z"
    }
   },
   "source": [
    "Для удобства при импорте pandas указывается алиас pd"
   ]
  },
  {
   "cell_type": "code",
   "execution_count": 2,
   "metadata": {
    "ExecuteTime": {
     "end_time": "2017-12-09T07:46:58.557910Z",
     "start_time": "2017-12-09T07:46:58.553912Z"
    },
    "collapsed": true
   },
   "outputs": [],
   "source": [
    "import pandas as pd"
   ]
  },
  {
   "cell_type": "markdown",
   "metadata": {},
   "source": [
    "Как обычно вы можете получить документацию по модулю с помощью знака `?` после названия"
   ]
  },
  {
   "cell_type": "code",
   "execution_count": 3,
   "metadata": {
    "ExecuteTime": {
     "end_time": "2017-12-09T07:46:58.573410Z",
     "start_time": "2017-12-09T07:46:58.561412Z"
    },
    "collapsed": true
   },
   "outputs": [],
   "source": [
    "pd?"
   ]
  },
  {
   "cell_type": "markdown",
   "metadata": {},
   "source": [
    "Основные струтуры данных в pandas это `Series` и `DataFrame`. `Series` - это одномерная, а `DataFrame` - двухмерная структура данных. Начнем с `Series`.\n",
    "\n",
    "## Series - одномерная структура данных\n",
    "Тип `Series` хранит одномерный массив данных и позволяет его индексировать различным образом. Создать `Series` объект можно разными способами. Начнем с обычного массива"
   ]
  },
  {
   "cell_type": "code",
   "execution_count": 4,
   "metadata": {
    "ExecuteTime": {
     "end_time": "2017-12-09T07:46:58.595411Z",
     "start_time": "2017-12-09T07:46:58.575912Z"
    }
   },
   "outputs": [
    {
     "data": {
      "text/plain": [
       "0    0\n",
       "1    1\n",
       "2    2\n",
       "3    3\n",
       "4    4\n",
       "dtype: int64"
      ]
     },
     "execution_count": 4,
     "metadata": {},
     "output_type": "execute_result"
    }
   ],
   "source": [
    "data = pd.Series([0, 1, 2, 3, 4])\n",
    "data"
   ]
  },
  {
   "cell_type": "markdown",
   "metadata": {},
   "source": [
    "Значения `Series` хранятся в обычном `ndarray`. Их можно получить с помощью аттрибуда `values`"
   ]
  },
  {
   "cell_type": "code",
   "execution_count": 5,
   "metadata": {
    "ExecuteTime": {
     "end_time": "2017-12-09T07:46:58.607911Z",
     "start_time": "2017-12-09T07:46:58.597411Z"
    }
   },
   "outputs": [
    {
     "data": {
      "text/plain": [
       "array([0, 1, 2, 3, 4], dtype=int64)"
      ]
     },
     "execution_count": 5,
     "metadata": {},
     "output_type": "execute_result"
    }
   ],
   "source": [
    "data.values"
   ]
  },
  {
   "cell_type": "markdown",
   "metadata": {
    "ExecuteTime": {
     "end_time": "2017-12-08T08:05:15.919893Z",
     "start_time": "2017-12-08T08:05:15.915396Z"
    }
   },
   "source": [
    "Индекс объекта хранится в отдельном атрибуте `index`"
   ]
  },
  {
   "cell_type": "code",
   "execution_count": 6,
   "metadata": {
    "ExecuteTime": {
     "end_time": "2017-12-09T07:46:58.621409Z",
     "start_time": "2017-12-09T07:46:58.609912Z"
    }
   },
   "outputs": [
    {
     "data": {
      "text/plain": [
       "RangeIndex(start=0, stop=5, step=1)"
      ]
     },
     "execution_count": 6,
     "metadata": {},
     "output_type": "execute_result"
    }
   ],
   "source": [
    "data.index"
   ]
  },
  {
   "cell_type": "markdown",
   "metadata": {},
   "source": [
    "`Series` поддерживает индексацию в стиле NumPy"
   ]
  },
  {
   "cell_type": "code",
   "execution_count": 7,
   "metadata": {
    "ExecuteTime": {
     "end_time": "2017-12-09T07:46:58.636411Z",
     "start_time": "2017-12-09T07:46:58.622910Z"
    }
   },
   "outputs": [
    {
     "data": {
      "text/plain": [
       "1    1\n",
       "2    2\n",
       "dtype: int64"
      ]
     },
     "execution_count": 7,
     "metadata": {},
     "output_type": "execute_result"
    }
   ],
   "source": [
    "data[1:-2]"
   ]
  },
  {
   "cell_type": "markdown",
   "metadata": {},
   "source": [
    "Однако индексы `Series` могут быть другого типа"
   ]
  },
  {
   "cell_type": "code",
   "execution_count": 8,
   "metadata": {
    "ExecuteTime": {
     "end_time": "2017-12-09T07:46:58.651911Z",
     "start_time": "2017-12-09T07:46:58.638414Z"
    }
   },
   "outputs": [
    {
     "data": {
      "text/plain": [
       "a    0\n",
       "b    1\n",
       "c    2\n",
       "d    3\n",
       "dtype: int32"
      ]
     },
     "execution_count": 8,
     "metadata": {},
     "output_type": "execute_result"
    }
   ],
   "source": [
    "data = pd.Series(range(4),\n",
    "                 index=['a', 'b', 'c', 'd'])\n",
    "data"
   ]
  },
  {
   "cell_type": "markdown",
   "metadata": {},
   "source": [
    "Эти индексы можно использовать точно также, как и численные индексы для доступа к данным"
   ]
  },
  {
   "cell_type": "code",
   "execution_count": 9,
   "metadata": {
    "ExecuteTime": {
     "end_time": "2017-12-09T07:46:58.668910Z",
     "start_time": "2017-12-09T07:46:58.653412Z"
    }
   },
   "outputs": [
    {
     "data": {
      "text/plain": [
       "b    1\n",
       "c    2\n",
       "d    3\n",
       "dtype: int32"
      ]
     },
     "execution_count": 9,
     "metadata": {},
     "output_type": "execute_result"
    }
   ],
   "source": [
    "data['b':'d']"
   ]
  },
  {
   "cell_type": "code",
   "execution_count": 10,
   "metadata": {
    "ExecuteTime": {
     "end_time": "2017-12-09T07:46:58.684411Z",
     "start_time": "2017-12-09T07:46:58.670412Z"
    }
   },
   "outputs": [
    {
     "data": {
      "text/plain": [
       "a    0\n",
       "c    2\n",
       "dtype: int32"
      ]
     },
     "execution_count": 10,
     "metadata": {},
     "output_type": "execute_result"
    }
   ],
   "source": [
    "data[['a', 'c']]"
   ]
  },
  {
   "cell_type": "markdown",
   "metadata": {},
   "source": [
    "При этом индексация по номеру также работает"
   ]
  },
  {
   "cell_type": "code",
   "execution_count": 11,
   "metadata": {
    "ExecuteTime": {
     "end_time": "2017-12-09T07:46:58.699409Z",
     "start_time": "2017-12-09T07:46:58.685912Z"
    }
   },
   "outputs": [
    {
     "data": {
      "text/plain": [
       "3"
      ]
     },
     "execution_count": 11,
     "metadata": {},
     "output_type": "execute_result"
    }
   ],
   "source": [
    "data[-1]"
   ]
  },
  {
   "cell_type": "markdown",
   "metadata": {},
   "source": [
    "`Series` может быть создан из объекта `dict`"
   ]
  },
  {
   "cell_type": "code",
   "execution_count": 12,
   "metadata": {
    "ExecuteTime": {
     "end_time": "2017-12-09T07:46:58.715911Z",
     "start_time": "2017-12-09T07:46:58.700911Z"
    }
   },
   "outputs": [
    {
     "data": {
      "text/plain": [
       "a    1\n",
       "b    2\n",
       "c    3\n",
       "d    4\n",
       "dtype: int64"
      ]
     },
     "execution_count": 12,
     "metadata": {},
     "output_type": "execute_result"
    }
   ],
   "source": [
    "data = pd.Series({'a': 1, 'b': 2, 'c': 3, 'd': 4})\n",
    "data"
   ]
  },
  {
   "cell_type": "code",
   "execution_count": 13,
   "metadata": {
    "ExecuteTime": {
     "end_time": "2017-12-09T07:46:58.729909Z",
     "start_time": "2017-12-09T07:46:58.717911Z"
    }
   },
   "outputs": [
    {
     "data": {
      "text/plain": [
       "a    1\n",
       "b    2\n",
       "c    3\n",
       "dtype: int64"
      ]
     },
     "execution_count": 13,
     "metadata": {},
     "output_type": "execute_result"
    }
   ],
   "source": [
    "data[:'c']"
   ]
  },
  {
   "cell_type": "markdown",
   "metadata": {},
   "source": [
    "## DataFrame - двухмерная структура данных\n",
    "`DataFrame` основная структура, используемая в pandas. `DataFrame` включает в себя возможности электронных таблиц (таких как Excel) и реляционных баз данных. \n",
    "\n",
    "Для работы с `DataFrame` возьмем некоторые демографические и экономические показатели несколькоих стран"
   ]
  },
  {
   "cell_type": "code",
   "execution_count": 14,
   "metadata": {
    "ExecuteTime": {
     "end_time": "2017-12-09T07:46:58.746910Z",
     "start_time": "2017-12-09T07:46:58.731411Z"
    },
    "collapsed": true
   },
   "outputs": [],
   "source": [
    "countries = ['Afghanistan', 'Kazakhstan', 'Kyrgyzstan', 'Tajikistan', 'Turkmenistan', 'Uzbekistan']\n",
    "area = [652864, 2724900, 199951, 143100, 491210, 448978]\n",
    "population = [34656032, 17987736, 6019480, 8734951, 5662544, 32979000]\n",
    "gdp = [21, 156.189, 7.061, 27.802, 42.355, 68.324]\n",
    "gini = [29, 26.4, 27.4, 30.8, 40.8, 36.7]"
   ]
  },
  {
   "cell_type": "markdown",
   "metadata": {},
   "source": [
    "`DataFrame` может быть создан из `dict` объекта. При этом ключи будут использоваться в качестве названия колонки, а список значений в качестве значений колонки. В качестве индексов будем использовать название стран"
   ]
  },
  {
   "cell_type": "code",
   "execution_count": 15,
   "metadata": {
    "ExecuteTime": {
     "end_time": "2017-12-09T07:46:58.766409Z",
     "start_time": "2017-12-09T07:46:58.748411Z"
    },
    "scrolled": true
   },
   "outputs": [
    {
     "data": {
      "text/html": [
       "<div>\n",
       "<style>\n",
       "    .dataframe thead tr:only-child th {\n",
       "        text-align: right;\n",
       "    }\n",
       "\n",
       "    .dataframe thead th {\n",
       "        text-align: left;\n",
       "    }\n",
       "\n",
       "    .dataframe tbody tr th {\n",
       "        vertical-align: top;\n",
       "    }\n",
       "</style>\n",
       "<table border=\"1\" class=\"dataframe\">\n",
       "  <thead>\n",
       "    <tr style=\"text-align: right;\">\n",
       "      <th></th>\n",
       "      <th>area</th>\n",
       "      <th>population</th>\n",
       "    </tr>\n",
       "  </thead>\n",
       "  <tbody>\n",
       "    <tr>\n",
       "      <th>Afghanistan</th>\n",
       "      <td>652864</td>\n",
       "      <td>34656032</td>\n",
       "    </tr>\n",
       "    <tr>\n",
       "      <th>Kazakhstan</th>\n",
       "      <td>2724900</td>\n",
       "      <td>17987736</td>\n",
       "    </tr>\n",
       "    <tr>\n",
       "      <th>Kyrgyzstan</th>\n",
       "      <td>199951</td>\n",
       "      <td>6019480</td>\n",
       "    </tr>\n",
       "    <tr>\n",
       "      <th>Tajikistan</th>\n",
       "      <td>143100</td>\n",
       "      <td>8734951</td>\n",
       "    </tr>\n",
       "    <tr>\n",
       "      <th>Turkmenistan</th>\n",
       "      <td>491210</td>\n",
       "      <td>5662544</td>\n",
       "    </tr>\n",
       "    <tr>\n",
       "      <th>Uzbekistan</th>\n",
       "      <td>448978</td>\n",
       "      <td>32979000</td>\n",
       "    </tr>\n",
       "  </tbody>\n",
       "</table>\n",
       "</div>"
      ],
      "text/plain": [
       "                 area  population\n",
       "Afghanistan    652864    34656032\n",
       "Kazakhstan    2724900    17987736\n",
       "Kyrgyzstan     199951     6019480\n",
       "Tajikistan     143100     8734951\n",
       "Turkmenistan   491210     5662544\n",
       "Uzbekistan     448978    32979000"
      ]
     },
     "execution_count": 15,
     "metadata": {},
     "output_type": "execute_result"
    }
   ],
   "source": [
    "central_asia = pd.DataFrame(data={'area': area, \n",
    "                                  'population': population}, \n",
    "                            index=countries)\n",
    "central_asia"
   ]
  },
  {
   "cell_type": "markdown",
   "metadata": {},
   "source": [
    "Как и в `Series` значения в `DataFrame` хранятся в виде `ndarray` и их можно получить с помощью атрибута `values`"
   ]
  },
  {
   "cell_type": "code",
   "execution_count": 16,
   "metadata": {
    "ExecuteTime": {
     "end_time": "2017-12-09T07:46:58.781409Z",
     "start_time": "2017-12-09T07:46:58.768912Z"
    }
   },
   "outputs": [
    {
     "data": {
      "text/plain": [
       "array([[  652864, 34656032],\n",
       "       [ 2724900, 17987736],\n",
       "       [  199951,  6019480],\n",
       "       [  143100,  8734951],\n",
       "       [  491210,  5662544],\n",
       "       [  448978, 32979000]], dtype=int64)"
      ]
     },
     "execution_count": 16,
     "metadata": {},
     "output_type": "execute_result"
    }
   ],
   "source": [
    "central_asia.values"
   ]
  },
  {
   "cell_type": "markdown",
   "metadata": {},
   "source": [
    "Можно получить список индексов и колонок с помощью атрибутов `index` и `columns` соответсвенно"
   ]
  },
  {
   "cell_type": "code",
   "execution_count": 17,
   "metadata": {
    "ExecuteTime": {
     "end_time": "2017-12-09T07:46:58.798411Z",
     "start_time": "2017-12-09T07:46:58.783411Z"
    }
   },
   "outputs": [
    {
     "name": "stdout",
     "output_type": "stream",
     "text": [
      "Index(['Afghanistan', 'Kazakhstan', 'Kyrgyzstan', 'Tajikistan', 'Turkmenistan',\n",
      "       'Uzbekistan'],\n",
      "      dtype='object')\n",
      "Index(['area', 'population'], dtype='object')\n"
     ]
    }
   ],
   "source": [
    "print(central_asia.index)\n",
    "print(central_asia.columns)"
   ]
  },
  {
   "cell_type": "markdown",
   "metadata": {
    "ExecuteTime": {
     "end_time": "2017-12-08T13:32:13.407380Z",
     "start_time": "2017-12-08T13:32:13.403380Z"
    }
   },
   "source": [
    "Можно получить значения колонки целиком использовав название колонки"
   ]
  },
  {
   "cell_type": "code",
   "execution_count": 18,
   "metadata": {
    "ExecuteTime": {
     "end_time": "2017-12-09T07:46:58.808910Z",
     "start_time": "2017-12-09T07:46:58.800412Z"
    }
   },
   "outputs": [
    {
     "data": {
      "text/plain": [
       "Afghanistan     34656032\n",
       "Kazakhstan      17987736\n",
       "Kyrgyzstan       6019480\n",
       "Tajikistan       8734951\n",
       "Turkmenistan     5662544\n",
       "Uzbekistan      32979000\n",
       "Name: population, dtype: int64"
      ]
     },
     "execution_count": 18,
     "metadata": {},
     "output_type": "execute_result"
    }
   ],
   "source": [
    "central_asia['population']"
   ]
  },
  {
   "cell_type": "markdown",
   "metadata": {},
   "source": [
    "Каждая колонка в отельности является `Series`"
   ]
  },
  {
   "cell_type": "code",
   "execution_count": 19,
   "metadata": {
    "ExecuteTime": {
     "end_time": "2017-12-09T07:46:58.823409Z",
     "start_time": "2017-12-09T07:46:58.811415Z"
    }
   },
   "outputs": [
    {
     "data": {
      "text/plain": [
       "pandas.core.series.Series"
      ]
     },
     "execution_count": 19,
     "metadata": {},
     "output_type": "execute_result"
    }
   ],
   "source": [
    "type(central_asia['population'])"
   ]
  },
  {
   "cell_type": "markdown",
   "metadata": {},
   "source": [
    "Мы можем добавить новую колонку в `DataFrame` следующим образом"
   ]
  },
  {
   "cell_type": "code",
   "execution_count": 20,
   "metadata": {
    "ExecuteTime": {
     "end_time": "2017-12-09T07:46:58.841409Z",
     "start_time": "2017-12-09T07:46:58.825414Z"
    }
   },
   "outputs": [
    {
     "data": {
      "text/html": [
       "<div>\n",
       "<style>\n",
       "    .dataframe thead tr:only-child th {\n",
       "        text-align: right;\n",
       "    }\n",
       "\n",
       "    .dataframe thead th {\n",
       "        text-align: left;\n",
       "    }\n",
       "\n",
       "    .dataframe tbody tr th {\n",
       "        vertical-align: top;\n",
       "    }\n",
       "</style>\n",
       "<table border=\"1\" class=\"dataframe\">\n",
       "  <thead>\n",
       "    <tr style=\"text-align: right;\">\n",
       "      <th></th>\n",
       "      <th>area</th>\n",
       "      <th>population</th>\n",
       "      <th>gdp</th>\n",
       "    </tr>\n",
       "  </thead>\n",
       "  <tbody>\n",
       "    <tr>\n",
       "      <th>Afghanistan</th>\n",
       "      <td>652864</td>\n",
       "      <td>34656032</td>\n",
       "      <td>21.000</td>\n",
       "    </tr>\n",
       "    <tr>\n",
       "      <th>Kazakhstan</th>\n",
       "      <td>2724900</td>\n",
       "      <td>17987736</td>\n",
       "      <td>156.189</td>\n",
       "    </tr>\n",
       "    <tr>\n",
       "      <th>Kyrgyzstan</th>\n",
       "      <td>199951</td>\n",
       "      <td>6019480</td>\n",
       "      <td>7.061</td>\n",
       "    </tr>\n",
       "    <tr>\n",
       "      <th>Tajikistan</th>\n",
       "      <td>143100</td>\n",
       "      <td>8734951</td>\n",
       "      <td>27.802</td>\n",
       "    </tr>\n",
       "    <tr>\n",
       "      <th>Turkmenistan</th>\n",
       "      <td>491210</td>\n",
       "      <td>5662544</td>\n",
       "      <td>42.355</td>\n",
       "    </tr>\n",
       "    <tr>\n",
       "      <th>Uzbekistan</th>\n",
       "      <td>448978</td>\n",
       "      <td>32979000</td>\n",
       "      <td>68.324</td>\n",
       "    </tr>\n",
       "  </tbody>\n",
       "</table>\n",
       "</div>"
      ],
      "text/plain": [
       "                 area  population      gdp\n",
       "Afghanistan    652864    34656032   21.000\n",
       "Kazakhstan    2724900    17987736  156.189\n",
       "Kyrgyzstan     199951     6019480    7.061\n",
       "Tajikistan     143100     8734951   27.802\n",
       "Turkmenistan   491210     5662544   42.355\n",
       "Uzbekistan     448978    32979000   68.324"
      ]
     },
     "execution_count": 20,
     "metadata": {},
     "output_type": "execute_result"
    }
   ],
   "source": [
    "central_asia['gdp'] = gdp\n",
    "central_asia"
   ]
  },
  {
   "cell_type": "markdown",
   "metadata": {},
   "source": [
    "Или если есть готовый `Series` объект, то можно использовать его. Обратите внимание, что при этом `Series` должен использовать такой же индекс, как и у `DataFrame`"
   ]
  },
  {
   "cell_type": "code",
   "execution_count": 21,
   "metadata": {
    "ExecuteTime": {
     "end_time": "2017-12-09T07:46:58.859412Z",
     "start_time": "2017-12-09T07:46:58.843414Z"
    }
   },
   "outputs": [
    {
     "data": {
      "text/html": [
       "<div>\n",
       "<style>\n",
       "    .dataframe thead tr:only-child th {\n",
       "        text-align: right;\n",
       "    }\n",
       "\n",
       "    .dataframe thead th {\n",
       "        text-align: left;\n",
       "    }\n",
       "\n",
       "    .dataframe tbody tr th {\n",
       "        vertical-align: top;\n",
       "    }\n",
       "</style>\n",
       "<table border=\"1\" class=\"dataframe\">\n",
       "  <thead>\n",
       "    <tr style=\"text-align: right;\">\n",
       "      <th></th>\n",
       "      <th>area</th>\n",
       "      <th>population</th>\n",
       "      <th>gdp</th>\n",
       "      <th>gini</th>\n",
       "    </tr>\n",
       "  </thead>\n",
       "  <tbody>\n",
       "    <tr>\n",
       "      <th>Afghanistan</th>\n",
       "      <td>652864</td>\n",
       "      <td>34656032</td>\n",
       "      <td>21.000</td>\n",
       "      <td>29.0</td>\n",
       "    </tr>\n",
       "    <tr>\n",
       "      <th>Kazakhstan</th>\n",
       "      <td>2724900</td>\n",
       "      <td>17987736</td>\n",
       "      <td>156.189</td>\n",
       "      <td>26.4</td>\n",
       "    </tr>\n",
       "    <tr>\n",
       "      <th>Kyrgyzstan</th>\n",
       "      <td>199951</td>\n",
       "      <td>6019480</td>\n",
       "      <td>7.061</td>\n",
       "      <td>27.4</td>\n",
       "    </tr>\n",
       "    <tr>\n",
       "      <th>Tajikistan</th>\n",
       "      <td>143100</td>\n",
       "      <td>8734951</td>\n",
       "      <td>27.802</td>\n",
       "      <td>30.8</td>\n",
       "    </tr>\n",
       "    <tr>\n",
       "      <th>Turkmenistan</th>\n",
       "      <td>491210</td>\n",
       "      <td>5662544</td>\n",
       "      <td>42.355</td>\n",
       "      <td>40.8</td>\n",
       "    </tr>\n",
       "    <tr>\n",
       "      <th>Uzbekistan</th>\n",
       "      <td>448978</td>\n",
       "      <td>32979000</td>\n",
       "      <td>68.324</td>\n",
       "      <td>36.7</td>\n",
       "    </tr>\n",
       "  </tbody>\n",
       "</table>\n",
       "</div>"
      ],
      "text/plain": [
       "                 area  population      gdp  gini\n",
       "Afghanistan    652864    34656032   21.000  29.0\n",
       "Kazakhstan    2724900    17987736  156.189  26.4\n",
       "Kyrgyzstan     199951     6019480    7.061  27.4\n",
       "Tajikistan     143100     8734951   27.802  30.8\n",
       "Turkmenistan   491210     5662544   42.355  40.8\n",
       "Uzbekistan     448978    32979000   68.324  36.7"
      ]
     },
     "execution_count": 21,
     "metadata": {},
     "output_type": "execute_result"
    }
   ],
   "source": [
    "gini_series = pd.Series(gini, index=countries)\n",
    "central_asia['gini'] = gini_series\n",
    "central_asia"
   ]
  },
  {
   "cell_type": "markdown",
   "metadata": {},
   "source": [
    "Так как pandas создан поверх NumPy он поддерживает векторизованные вычисления. Например, мы можем вычислить ВВП на душу населения следующим образом"
   ]
  },
  {
   "cell_type": "code",
   "execution_count": 22,
   "metadata": {
    "ExecuteTime": {
     "end_time": "2017-12-09T07:46:58.881909Z",
     "start_time": "2017-12-09T07:46:58.861911Z"
    }
   },
   "outputs": [
    {
     "data": {
      "text/html": [
       "<div>\n",
       "<style>\n",
       "    .dataframe thead tr:only-child th {\n",
       "        text-align: right;\n",
       "    }\n",
       "\n",
       "    .dataframe thead th {\n",
       "        text-align: left;\n",
       "    }\n",
       "\n",
       "    .dataframe tbody tr th {\n",
       "        vertical-align: top;\n",
       "    }\n",
       "</style>\n",
       "<table border=\"1\" class=\"dataframe\">\n",
       "  <thead>\n",
       "    <tr style=\"text-align: right;\">\n",
       "      <th></th>\n",
       "      <th>area</th>\n",
       "      <th>population</th>\n",
       "      <th>gdp</th>\n",
       "      <th>gini</th>\n",
       "      <th>gdp_per_capita</th>\n",
       "    </tr>\n",
       "  </thead>\n",
       "  <tbody>\n",
       "    <tr>\n",
       "      <th>Afghanistan</th>\n",
       "      <td>652864</td>\n",
       "      <td>34656032</td>\n",
       "      <td>21.000</td>\n",
       "      <td>29.0</td>\n",
       "      <td>605.955119</td>\n",
       "    </tr>\n",
       "    <tr>\n",
       "      <th>Kazakhstan</th>\n",
       "      <td>2724900</td>\n",
       "      <td>17987736</td>\n",
       "      <td>156.189</td>\n",
       "      <td>26.4</td>\n",
       "      <td>8683.082740</td>\n",
       "    </tr>\n",
       "    <tr>\n",
       "      <th>Kyrgyzstan</th>\n",
       "      <td>199951</td>\n",
       "      <td>6019480</td>\n",
       "      <td>7.061</td>\n",
       "      <td>27.4</td>\n",
       "      <td>1173.024912</td>\n",
       "    </tr>\n",
       "    <tr>\n",
       "      <th>Tajikistan</th>\n",
       "      <td>143100</td>\n",
       "      <td>8734951</td>\n",
       "      <td>27.802</td>\n",
       "      <td>30.8</td>\n",
       "      <td>3182.845559</td>\n",
       "    </tr>\n",
       "    <tr>\n",
       "      <th>Turkmenistan</th>\n",
       "      <td>491210</td>\n",
       "      <td>5662544</td>\n",
       "      <td>42.355</td>\n",
       "      <td>40.8</td>\n",
       "      <td>7479.853578</td>\n",
       "    </tr>\n",
       "    <tr>\n",
       "      <th>Uzbekistan</th>\n",
       "      <td>448978</td>\n",
       "      <td>32979000</td>\n",
       "      <td>68.324</td>\n",
       "      <td>36.7</td>\n",
       "      <td>2071.742624</td>\n",
       "    </tr>\n",
       "  </tbody>\n",
       "</table>\n",
       "</div>"
      ],
      "text/plain": [
       "                 area  population      gdp  gini  gdp_per_capita\n",
       "Afghanistan    652864    34656032   21.000  29.0      605.955119\n",
       "Kazakhstan    2724900    17987736  156.189  26.4     8683.082740\n",
       "Kyrgyzstan     199951     6019480    7.061  27.4     1173.024912\n",
       "Tajikistan     143100     8734951   27.802  30.8     3182.845559\n",
       "Turkmenistan   491210     5662544   42.355  40.8     7479.853578\n",
       "Uzbekistan     448978    32979000   68.324  36.7     2071.742624"
      ]
     },
     "execution_count": 22,
     "metadata": {},
     "output_type": "execute_result"
    }
   ],
   "source": [
    "central_asia['gdp_per_capita'] = 1e9 * central_asia['gdp'] / central_asia['population']\n",
    "central_asia"
   ]
  },
  {
   "cell_type": "markdown",
   "metadata": {},
   "source": [
    "## Выбор данных и индексация\n",
    "Как и NumPy pandas поддерживает булевые маски для выбора подмножества данных соответсвующих определенному условию. Например, можно выбрать страны, у которых коэффициент Джини выше определнного уровня"
   ]
  },
  {
   "cell_type": "code",
   "execution_count": 23,
   "metadata": {
    "ExecuteTime": {
     "end_time": "2017-12-09T07:46:58.897409Z",
     "start_time": "2017-12-09T07:46:58.883412Z"
    }
   },
   "outputs": [
    {
     "data": {
      "text/plain": [
       "Tajikistan      30.8\n",
       "Turkmenistan    40.8\n",
       "Uzbekistan      36.7\n",
       "dtype: float64"
      ]
     },
     "execution_count": 23,
     "metadata": {},
     "output_type": "execute_result"
    }
   ],
   "source": [
    "gini_series[gini_series > 30]"
   ]
  },
  {
   "cell_type": "markdown",
   "metadata": {},
   "source": [
    "То же самое можно сделать для `DataFrame`"
   ]
  },
  {
   "cell_type": "code",
   "execution_count": 24,
   "metadata": {
    "ExecuteTime": {
     "end_time": "2017-12-09T07:46:58.915910Z",
     "start_time": "2017-12-09T07:46:58.899410Z"
    }
   },
   "outputs": [
    {
     "data": {
      "text/html": [
       "<div>\n",
       "<style>\n",
       "    .dataframe thead tr:only-child th {\n",
       "        text-align: right;\n",
       "    }\n",
       "\n",
       "    .dataframe thead th {\n",
       "        text-align: left;\n",
       "    }\n",
       "\n",
       "    .dataframe tbody tr th {\n",
       "        vertical-align: top;\n",
       "    }\n",
       "</style>\n",
       "<table border=\"1\" class=\"dataframe\">\n",
       "  <thead>\n",
       "    <tr style=\"text-align: right;\">\n",
       "      <th></th>\n",
       "      <th>area</th>\n",
       "      <th>population</th>\n",
       "      <th>gdp</th>\n",
       "      <th>gini</th>\n",
       "      <th>gdp_per_capita</th>\n",
       "    </tr>\n",
       "  </thead>\n",
       "  <tbody>\n",
       "    <tr>\n",
       "      <th>Tajikistan</th>\n",
       "      <td>143100</td>\n",
       "      <td>8734951</td>\n",
       "      <td>27.802</td>\n",
       "      <td>30.8</td>\n",
       "      <td>3182.845559</td>\n",
       "    </tr>\n",
       "    <tr>\n",
       "      <th>Turkmenistan</th>\n",
       "      <td>491210</td>\n",
       "      <td>5662544</td>\n",
       "      <td>42.355</td>\n",
       "      <td>40.8</td>\n",
       "      <td>7479.853578</td>\n",
       "    </tr>\n",
       "    <tr>\n",
       "      <th>Uzbekistan</th>\n",
       "      <td>448978</td>\n",
       "      <td>32979000</td>\n",
       "      <td>68.324</td>\n",
       "      <td>36.7</td>\n",
       "      <td>2071.742624</td>\n",
       "    </tr>\n",
       "  </tbody>\n",
       "</table>\n",
       "</div>"
      ],
      "text/plain": [
       "                area  population     gdp  gini  gdp_per_capita\n",
       "Tajikistan    143100     8734951  27.802  30.8     3182.845559\n",
       "Turkmenistan  491210     5662544  42.355  40.8     7479.853578\n",
       "Uzbekistan    448978    32979000  68.324  36.7     2071.742624"
      ]
     },
     "execution_count": 24,
     "metadata": {},
     "output_type": "execute_result"
    }
   ],
   "source": [
    "central_asia[central_asia['gini'] > 30]"
   ]
  },
  {
   "cell_type": "markdown",
   "metadata": {},
   "source": [
    "Или более сложное условие"
   ]
  },
  {
   "cell_type": "code",
   "execution_count": 25,
   "metadata": {
    "ExecuteTime": {
     "end_time": "2017-12-09T07:46:58.937412Z",
     "start_time": "2017-12-09T07:46:58.917410Z"
    }
   },
   "outputs": [
    {
     "data": {
      "text/html": [
       "<div>\n",
       "<style>\n",
       "    .dataframe thead tr:only-child th {\n",
       "        text-align: right;\n",
       "    }\n",
       "\n",
       "    .dataframe thead th {\n",
       "        text-align: left;\n",
       "    }\n",
       "\n",
       "    .dataframe tbody tr th {\n",
       "        vertical-align: top;\n",
       "    }\n",
       "</style>\n",
       "<table border=\"1\" class=\"dataframe\">\n",
       "  <thead>\n",
       "    <tr style=\"text-align: right;\">\n",
       "      <th></th>\n",
       "      <th>area</th>\n",
       "      <th>population</th>\n",
       "      <th>gdp</th>\n",
       "      <th>gini</th>\n",
       "      <th>gdp_per_capita</th>\n",
       "      <th>population_density</th>\n",
       "    </tr>\n",
       "  </thead>\n",
       "  <tbody>\n",
       "    <tr>\n",
       "      <th>Tajikistan</th>\n",
       "      <td>143100</td>\n",
       "      <td>8734951</td>\n",
       "      <td>27.802</td>\n",
       "      <td>30.8</td>\n",
       "      <td>3182.845559</td>\n",
       "      <td>61.040887</td>\n",
       "    </tr>\n",
       "    <tr>\n",
       "      <th>Uzbekistan</th>\n",
       "      <td>448978</td>\n",
       "      <td>32979000</td>\n",
       "      <td>68.324</td>\n",
       "      <td>36.7</td>\n",
       "      <td>2071.742624</td>\n",
       "      <td>73.453488</td>\n",
       "    </tr>\n",
       "  </tbody>\n",
       "</table>\n",
       "</div>"
      ],
      "text/plain": [
       "              area  population     gdp  gini  gdp_per_capita  \\\n",
       "Tajikistan  143100     8734951  27.802  30.8     3182.845559   \n",
       "Uzbekistan  448978    32979000  68.324  36.7     2071.742624   \n",
       "\n",
       "            population_density  \n",
       "Tajikistan           61.040887  \n",
       "Uzbekistan           73.453488  "
      ]
     },
     "execution_count": 25,
     "metadata": {},
     "output_type": "execute_result"
    }
   ],
   "source": [
    "central_asia['population_density'] = central_asia['population'] / central_asia['area']\n",
    "central_asia[(central_asia['gdp_per_capita'] > 2000) & (central_asia['population_density'] > 50)]"
   ]
  },
  {
   "cell_type": "markdown",
   "metadata": {},
   "source": [
    "При выборе данных в `DataFrame` можно указать список колонок, чтобы оставить только подмножество колонок"
   ]
  },
  {
   "cell_type": "code",
   "execution_count": 26,
   "metadata": {
    "ExecuteTime": {
     "end_time": "2017-12-09T07:46:58.954909Z",
     "start_time": "2017-12-09T07:46:58.938913Z"
    }
   },
   "outputs": [
    {
     "data": {
      "text/html": [
       "<div>\n",
       "<style>\n",
       "    .dataframe thead tr:only-child th {\n",
       "        text-align: right;\n",
       "    }\n",
       "\n",
       "    .dataframe thead th {\n",
       "        text-align: left;\n",
       "    }\n",
       "\n",
       "    .dataframe tbody tr th {\n",
       "        vertical-align: top;\n",
       "    }\n",
       "</style>\n",
       "<table border=\"1\" class=\"dataframe\">\n",
       "  <thead>\n",
       "    <tr style=\"text-align: right;\">\n",
       "      <th></th>\n",
       "      <th>area</th>\n",
       "      <th>population</th>\n",
       "    </tr>\n",
       "  </thead>\n",
       "  <tbody>\n",
       "    <tr>\n",
       "      <th>Afghanistan</th>\n",
       "      <td>652864</td>\n",
       "      <td>34656032</td>\n",
       "    </tr>\n",
       "    <tr>\n",
       "      <th>Kazakhstan</th>\n",
       "      <td>2724900</td>\n",
       "      <td>17987736</td>\n",
       "    </tr>\n",
       "    <tr>\n",
       "      <th>Kyrgyzstan</th>\n",
       "      <td>199951</td>\n",
       "      <td>6019480</td>\n",
       "    </tr>\n",
       "    <tr>\n",
       "      <th>Tajikistan</th>\n",
       "      <td>143100</td>\n",
       "      <td>8734951</td>\n",
       "    </tr>\n",
       "    <tr>\n",
       "      <th>Turkmenistan</th>\n",
       "      <td>491210</td>\n",
       "      <td>5662544</td>\n",
       "    </tr>\n",
       "    <tr>\n",
       "      <th>Uzbekistan</th>\n",
       "      <td>448978</td>\n",
       "      <td>32979000</td>\n",
       "    </tr>\n",
       "  </tbody>\n",
       "</table>\n",
       "</div>"
      ],
      "text/plain": [
       "                 area  population\n",
       "Afghanistan    652864    34656032\n",
       "Kazakhstan    2724900    17987736\n",
       "Kyrgyzstan     199951     6019480\n",
       "Tajikistan     143100     8734951\n",
       "Turkmenistan   491210     5662544\n",
       "Uzbekistan     448978    32979000"
      ]
     },
     "execution_count": 26,
     "metadata": {},
     "output_type": "execute_result"
    }
   ],
   "source": [
    "central_asia[['area', 'population']]"
   ]
  },
  {
   "cell_type": "markdown",
   "metadata": {},
   "source": [
    "### Атрибуты `loc` и `iloc`\n",
    "Как мы видели до этого для доступа к данным pandas позволяет использовать как индексы строк, так и срезы (slices). Однако если в качестве индексов используются целые числа, то это может привести к путанице. Рассмотрим следующий пример, в котором в качестве индексов используются нечетные числа"
   ]
  },
  {
   "cell_type": "code",
   "execution_count": 27,
   "metadata": {
    "ExecuteTime": {
     "end_time": "2017-12-09T07:46:58.971910Z",
     "start_time": "2017-12-09T07:46:58.956913Z"
    }
   },
   "outputs": [
    {
     "data": {
      "text/plain": [
       "1    a\n",
       "3    b\n",
       "dtype: object"
      ]
     },
     "execution_count": 27,
     "metadata": {},
     "output_type": "execute_result"
    }
   ],
   "source": [
    "data = pd.Series(['a', 'b', 'c'], index=[1, 3, 5])\n",
    "data[[1, 3]]"
   ]
  },
  {
   "cell_type": "markdown",
   "metadata": {},
   "source": [
    "Однако, если выбрать срез `1:3`, то получится следующий результат"
   ]
  },
  {
   "cell_type": "code",
   "execution_count": 28,
   "metadata": {
    "ExecuteTime": {
     "end_time": "2017-12-09T07:46:58.987410Z",
     "start_time": "2017-12-09T07:46:58.973412Z"
    }
   },
   "outputs": [
    {
     "data": {
      "text/plain": [
       "3    b\n",
       "5    c\n",
       "dtype: object"
      ]
     },
     "execution_count": 28,
     "metadata": {},
     "output_type": "execute_result"
    }
   ],
   "source": [
    "data[1:3]"
   ]
  },
  {
   "cell_type": "markdown",
   "metadata": {},
   "source": [
    "Чтобы избежать этой путаницы в pandas есть специальные атрибуты `loc` и `iloc` для явного указания индексов. \n",
    "\n",
    "Атрибут `loc` всегда использует явный индекс"
   ]
  },
  {
   "cell_type": "code",
   "execution_count": 29,
   "metadata": {
    "ExecuteTime": {
     "end_time": "2017-12-09T07:46:59.001911Z",
     "start_time": "2017-12-09T07:46:58.989410Z"
    }
   },
   "outputs": [
    {
     "data": {
      "text/plain": [
       "1    a\n",
       "3    b\n",
       "dtype: object"
      ]
     },
     "execution_count": 29,
     "metadata": {},
     "output_type": "execute_result"
    }
   ],
   "source": [
    "data.loc[1:3]"
   ]
  },
  {
   "cell_type": "markdown",
   "metadata": {},
   "source": [
    "Атрибут `iloc` всегда использует номер строки, который также называется неявным индексом"
   ]
  },
  {
   "cell_type": "code",
   "execution_count": 30,
   "metadata": {
    "ExecuteTime": {
     "end_time": "2017-12-09T07:46:59.017411Z",
     "start_time": "2017-12-09T07:46:59.003911Z"
    }
   },
   "outputs": [
    {
     "data": {
      "text/plain": [
       "3    b\n",
       "5    c\n",
       "dtype: object"
      ]
     },
     "execution_count": 30,
     "metadata": {},
     "output_type": "execute_result"
    }
   ],
   "source": [
    "data.iloc[1:3]"
   ]
  },
  {
   "cell_type": "markdown",
   "metadata": {},
   "source": [
    "Атрибуты `loc` и `iloc` также есть в `DataFrame`"
   ]
  },
  {
   "cell_type": "code",
   "execution_count": 32,
   "metadata": {
    "ExecuteTime": {
     "end_time": "2017-12-09T07:49:31.042597Z",
     "start_time": "2017-12-09T07:49:31.031599Z"
    }
   },
   "outputs": [
    {
     "data": {
      "text/html": [
       "<div>\n",
       "<style>\n",
       "    .dataframe thead tr:only-child th {\n",
       "        text-align: right;\n",
       "    }\n",
       "\n",
       "    .dataframe thead th {\n",
       "        text-align: left;\n",
       "    }\n",
       "\n",
       "    .dataframe tbody tr th {\n",
       "        vertical-align: top;\n",
       "    }\n",
       "</style>\n",
       "<table border=\"1\" class=\"dataframe\">\n",
       "  <thead>\n",
       "    <tr style=\"text-align: right;\">\n",
       "      <th></th>\n",
       "      <th>area</th>\n",
       "      <th>population</th>\n",
       "      <th>gdp</th>\n",
       "      <th>gini</th>\n",
       "      <th>gdp_per_capita</th>\n",
       "      <th>population_density</th>\n",
       "    </tr>\n",
       "  </thead>\n",
       "  <tbody>\n",
       "    <tr>\n",
       "      <th>Kazakhstan</th>\n",
       "      <td>2724900</td>\n",
       "      <td>17987736</td>\n",
       "      <td>156.189</td>\n",
       "      <td>26.4</td>\n",
       "      <td>8683.082740</td>\n",
       "      <td>6.601246</td>\n",
       "    </tr>\n",
       "    <tr>\n",
       "      <th>Uzbekistan</th>\n",
       "      <td>448978</td>\n",
       "      <td>32979000</td>\n",
       "      <td>68.324</td>\n",
       "      <td>36.7</td>\n",
       "      <td>2071.742624</td>\n",
       "      <td>73.453488</td>\n",
       "    </tr>\n",
       "  </tbody>\n",
       "</table>\n",
       "</div>"
      ],
      "text/plain": [
       "               area  population      gdp  gini  gdp_per_capita  \\\n",
       "Kazakhstan  2724900    17987736  156.189  26.4     8683.082740   \n",
       "Uzbekistan   448978    32979000   68.324  36.7     2071.742624   \n",
       "\n",
       "            population_density  \n",
       "Kazakhstan            6.601246  \n",
       "Uzbekistan           73.453488  "
      ]
     },
     "execution_count": 32,
     "metadata": {},
     "output_type": "execute_result"
    }
   ],
   "source": [
    "central_asia.loc[['Kazakhstan', 'Uzbekistan']]"
   ]
  },
  {
   "cell_type": "code",
   "execution_count": 35,
   "metadata": {
    "ExecuteTime": {
     "end_time": "2017-12-09T07:50:14.428468Z",
     "start_time": "2017-12-09T07:50:14.414969Z"
    }
   },
   "outputs": [
    {
     "data": {
      "text/html": [
       "<div>\n",
       "<style>\n",
       "    .dataframe thead tr:only-child th {\n",
       "        text-align: right;\n",
       "    }\n",
       "\n",
       "    .dataframe thead th {\n",
       "        text-align: left;\n",
       "    }\n",
       "\n",
       "    .dataframe tbody tr th {\n",
       "        vertical-align: top;\n",
       "    }\n",
       "</style>\n",
       "<table border=\"1\" class=\"dataframe\">\n",
       "  <thead>\n",
       "    <tr style=\"text-align: right;\">\n",
       "      <th></th>\n",
       "      <th>area</th>\n",
       "      <th>population</th>\n",
       "      <th>gdp</th>\n",
       "      <th>gini</th>\n",
       "      <th>gdp_per_capita</th>\n",
       "      <th>population_density</th>\n",
       "    </tr>\n",
       "  </thead>\n",
       "  <tbody>\n",
       "    <tr>\n",
       "      <th>Kyrgyzstan</th>\n",
       "      <td>199951</td>\n",
       "      <td>6019480</td>\n",
       "      <td>7.061</td>\n",
       "      <td>27.4</td>\n",
       "      <td>1173.024912</td>\n",
       "      <td>30.104776</td>\n",
       "    </tr>\n",
       "    <tr>\n",
       "      <th>Tajikistan</th>\n",
       "      <td>143100</td>\n",
       "      <td>8734951</td>\n",
       "      <td>27.802</td>\n",
       "      <td>30.8</td>\n",
       "      <td>3182.845559</td>\n",
       "      <td>61.040887</td>\n",
       "    </tr>\n",
       "    <tr>\n",
       "      <th>Turkmenistan</th>\n",
       "      <td>491210</td>\n",
       "      <td>5662544</td>\n",
       "      <td>42.355</td>\n",
       "      <td>40.8</td>\n",
       "      <td>7479.853578</td>\n",
       "      <td>11.527746</td>\n",
       "    </tr>\n",
       "  </tbody>\n",
       "</table>\n",
       "</div>"
      ],
      "text/plain": [
       "                area  population     gdp  gini  gdp_per_capita  \\\n",
       "Kyrgyzstan    199951     6019480   7.061  27.4     1173.024912   \n",
       "Tajikistan    143100     8734951  27.802  30.8     3182.845559   \n",
       "Turkmenistan  491210     5662544  42.355  40.8     7479.853578   \n",
       "\n",
       "              population_density  \n",
       "Kyrgyzstan             30.104776  \n",
       "Tajikistan             61.040887  \n",
       "Turkmenistan           11.527746  "
      ]
     },
     "execution_count": 35,
     "metadata": {},
     "output_type": "execute_result"
    }
   ],
   "source": [
    "central_asia.loc['Kyrgyzstan' : 'Turkmenistan']"
   ]
  },
  {
   "cell_type": "code",
   "execution_count": 36,
   "metadata": {
    "ExecuteTime": {
     "end_time": "2017-12-09T07:50:39.644344Z",
     "start_time": "2017-12-09T07:50:39.633344Z"
    }
   },
   "outputs": [
    {
     "data": {
      "text/html": [
       "<div>\n",
       "<style>\n",
       "    .dataframe thead tr:only-child th {\n",
       "        text-align: right;\n",
       "    }\n",
       "\n",
       "    .dataframe thead th {\n",
       "        text-align: left;\n",
       "    }\n",
       "\n",
       "    .dataframe tbody tr th {\n",
       "        vertical-align: top;\n",
       "    }\n",
       "</style>\n",
       "<table border=\"1\" class=\"dataframe\">\n",
       "  <thead>\n",
       "    <tr style=\"text-align: right;\">\n",
       "      <th></th>\n",
       "      <th>area</th>\n",
       "      <th>population</th>\n",
       "      <th>gdp</th>\n",
       "      <th>gini</th>\n",
       "      <th>gdp_per_capita</th>\n",
       "      <th>population_density</th>\n",
       "    </tr>\n",
       "  </thead>\n",
       "  <tbody>\n",
       "    <tr>\n",
       "      <th>Kazakhstan</th>\n",
       "      <td>2724900</td>\n",
       "      <td>17987736</td>\n",
       "      <td>156.189</td>\n",
       "      <td>26.4</td>\n",
       "      <td>8683.082740</td>\n",
       "      <td>6.601246</td>\n",
       "    </tr>\n",
       "    <tr>\n",
       "      <th>Uzbekistan</th>\n",
       "      <td>448978</td>\n",
       "      <td>32979000</td>\n",
       "      <td>68.324</td>\n",
       "      <td>36.7</td>\n",
       "      <td>2071.742624</td>\n",
       "      <td>73.453488</td>\n",
       "    </tr>\n",
       "  </tbody>\n",
       "</table>\n",
       "</div>"
      ],
      "text/plain": [
       "               area  population      gdp  gini  gdp_per_capita  \\\n",
       "Kazakhstan  2724900    17987736  156.189  26.4     8683.082740   \n",
       "Uzbekistan   448978    32979000   68.324  36.7     2071.742624   \n",
       "\n",
       "            population_density  \n",
       "Kazakhstan            6.601246  \n",
       "Uzbekistan           73.453488  "
      ]
     },
     "execution_count": 36,
     "metadata": {},
     "output_type": "execute_result"
    }
   ],
   "source": [
    "central_asia.iloc[[1, 5]]"
   ]
  },
  {
   "cell_type": "code",
   "execution_count": 39,
   "metadata": {
    "ExecuteTime": {
     "end_time": "2017-12-09T07:51:11.024909Z",
     "start_time": "2017-12-09T07:51:11.013407Z"
    }
   },
   "outputs": [
    {
     "data": {
      "text/html": [
       "<div>\n",
       "<style>\n",
       "    .dataframe thead tr:only-child th {\n",
       "        text-align: right;\n",
       "    }\n",
       "\n",
       "    .dataframe thead th {\n",
       "        text-align: left;\n",
       "    }\n",
       "\n",
       "    .dataframe tbody tr th {\n",
       "        vertical-align: top;\n",
       "    }\n",
       "</style>\n",
       "<table border=\"1\" class=\"dataframe\">\n",
       "  <thead>\n",
       "    <tr style=\"text-align: right;\">\n",
       "      <th></th>\n",
       "      <th>area</th>\n",
       "      <th>population</th>\n",
       "      <th>gdp</th>\n",
       "      <th>gini</th>\n",
       "      <th>gdp_per_capita</th>\n",
       "      <th>population_density</th>\n",
       "    </tr>\n",
       "  </thead>\n",
       "  <tbody>\n",
       "    <tr>\n",
       "      <th>Kyrgyzstan</th>\n",
       "      <td>199951</td>\n",
       "      <td>6019480</td>\n",
       "      <td>7.061</td>\n",
       "      <td>27.4</td>\n",
       "      <td>1173.024912</td>\n",
       "      <td>30.104776</td>\n",
       "    </tr>\n",
       "    <tr>\n",
       "      <th>Tajikistan</th>\n",
       "      <td>143100</td>\n",
       "      <td>8734951</td>\n",
       "      <td>27.802</td>\n",
       "      <td>30.8</td>\n",
       "      <td>3182.845559</td>\n",
       "      <td>61.040887</td>\n",
       "    </tr>\n",
       "    <tr>\n",
       "      <th>Turkmenistan</th>\n",
       "      <td>491210</td>\n",
       "      <td>5662544</td>\n",
       "      <td>42.355</td>\n",
       "      <td>40.8</td>\n",
       "      <td>7479.853578</td>\n",
       "      <td>11.527746</td>\n",
       "    </tr>\n",
       "  </tbody>\n",
       "</table>\n",
       "</div>"
      ],
      "text/plain": [
       "                area  population     gdp  gini  gdp_per_capita  \\\n",
       "Kyrgyzstan    199951     6019480   7.061  27.4     1173.024912   \n",
       "Tajikistan    143100     8734951  27.802  30.8     3182.845559   \n",
       "Turkmenistan  491210     5662544  42.355  40.8     7479.853578   \n",
       "\n",
       "              population_density  \n",
       "Kyrgyzstan             30.104776  \n",
       "Tajikistan             61.040887  \n",
       "Turkmenistan           11.527746  "
      ]
     },
     "execution_count": 39,
     "metadata": {},
     "output_type": "execute_result"
    }
   ],
   "source": [
    "central_asia.iloc[2 : 5]"
   ]
  },
  {
   "cell_type": "markdown",
   "metadata": {},
   "source": [
    "В атрибуте `loc` можно указать колонки, которые нужно вытащить"
   ]
  },
  {
   "cell_type": "code",
   "execution_count": 40,
   "metadata": {
    "ExecuteTime": {
     "end_time": "2017-12-09T07:53:21.554364Z",
     "start_time": "2017-12-09T07:53:21.545364Z"
    }
   },
   "outputs": [
    {
     "data": {
      "text/html": [
       "<div>\n",
       "<style>\n",
       "    .dataframe thead tr:only-child th {\n",
       "        text-align: right;\n",
       "    }\n",
       "\n",
       "    .dataframe thead th {\n",
       "        text-align: left;\n",
       "    }\n",
       "\n",
       "    .dataframe tbody tr th {\n",
       "        vertical-align: top;\n",
       "    }\n",
       "</style>\n",
       "<table border=\"1\" class=\"dataframe\">\n",
       "  <thead>\n",
       "    <tr style=\"text-align: right;\">\n",
       "      <th></th>\n",
       "      <th>population</th>\n",
       "      <th>gdp_per_capita</th>\n",
       "    </tr>\n",
       "  </thead>\n",
       "  <tbody>\n",
       "    <tr>\n",
       "      <th>Kazakhstan</th>\n",
       "      <td>17987736</td>\n",
       "      <td>8683.082740</td>\n",
       "    </tr>\n",
       "    <tr>\n",
       "      <th>Uzbekistan</th>\n",
       "      <td>32979000</td>\n",
       "      <td>2071.742624</td>\n",
       "    </tr>\n",
       "  </tbody>\n",
       "</table>\n",
       "</div>"
      ],
      "text/plain": [
       "            population  gdp_per_capita\n",
       "Kazakhstan    17987736     8683.082740\n",
       "Uzbekistan    32979000     2071.742624"
      ]
     },
     "execution_count": 40,
     "metadata": {},
     "output_type": "execute_result"
    }
   ],
   "source": [
    "central_asia.loc[['Kazakhstan', 'Uzbekistan'], ['population', 'gdp_per_capita']]"
   ]
  },
  {
   "cell_type": "markdown",
   "metadata": {},
   "source": [
    "Колонки также можно указывать в виде срезов"
   ]
  },
  {
   "cell_type": "code",
   "execution_count": 41,
   "metadata": {
    "ExecuteTime": {
     "end_time": "2017-12-09T07:54:28.617948Z",
     "start_time": "2017-12-09T07:54:28.604448Z"
    }
   },
   "outputs": [
    {
     "data": {
      "text/html": [
       "<div>\n",
       "<style>\n",
       "    .dataframe thead tr:only-child th {\n",
       "        text-align: right;\n",
       "    }\n",
       "\n",
       "    .dataframe thead th {\n",
       "        text-align: left;\n",
       "    }\n",
       "\n",
       "    .dataframe tbody tr th {\n",
       "        vertical-align: top;\n",
       "    }\n",
       "</style>\n",
       "<table border=\"1\" class=\"dataframe\">\n",
       "  <thead>\n",
       "    <tr style=\"text-align: right;\">\n",
       "      <th></th>\n",
       "      <th>gdp</th>\n",
       "      <th>gini</th>\n",
       "      <th>gdp_per_capita</th>\n",
       "      <th>population_density</th>\n",
       "    </tr>\n",
       "  </thead>\n",
       "  <tbody>\n",
       "    <tr>\n",
       "      <th>Kazakhstan</th>\n",
       "      <td>156.189</td>\n",
       "      <td>26.4</td>\n",
       "      <td>8683.082740</td>\n",
       "      <td>6.601246</td>\n",
       "    </tr>\n",
       "    <tr>\n",
       "      <th>Kyrgyzstan</th>\n",
       "      <td>7.061</td>\n",
       "      <td>27.4</td>\n",
       "      <td>1173.024912</td>\n",
       "      <td>30.104776</td>\n",
       "    </tr>\n",
       "    <tr>\n",
       "      <th>Tajikistan</th>\n",
       "      <td>27.802</td>\n",
       "      <td>30.8</td>\n",
       "      <td>3182.845559</td>\n",
       "      <td>61.040887</td>\n",
       "    </tr>\n",
       "    <tr>\n",
       "      <th>Turkmenistan</th>\n",
       "      <td>42.355</td>\n",
       "      <td>40.8</td>\n",
       "      <td>7479.853578</td>\n",
       "      <td>11.527746</td>\n",
       "    </tr>\n",
       "    <tr>\n",
       "      <th>Uzbekistan</th>\n",
       "      <td>68.324</td>\n",
       "      <td>36.7</td>\n",
       "      <td>2071.742624</td>\n",
       "      <td>73.453488</td>\n",
       "    </tr>\n",
       "  </tbody>\n",
       "</table>\n",
       "</div>"
      ],
      "text/plain": [
       "                  gdp  gini  gdp_per_capita  population_density\n",
       "Kazakhstan    156.189  26.4     8683.082740            6.601246\n",
       "Kyrgyzstan      7.061  27.4     1173.024912           30.104776\n",
       "Tajikistan     27.802  30.8     3182.845559           61.040887\n",
       "Turkmenistan   42.355  40.8     7479.853578           11.527746\n",
       "Uzbekistan     68.324  36.7     2071.742624           73.453488"
      ]
     },
     "execution_count": 41,
     "metadata": {},
     "output_type": "execute_result"
    }
   ],
   "source": [
    "central_asia.loc['Kazakhstan': , 'gdp': ]"
   ]
  },
  {
   "cell_type": "markdown",
   "metadata": {},
   "source": [
    "То же сакмое можно сделать с помощью `iloc`, в котором вместо названий указываются номера колонок"
   ]
  },
  {
   "cell_type": "code",
   "execution_count": 43,
   "metadata": {
    "ExecuteTime": {
     "end_time": "2017-12-09T07:55:55.956354Z",
     "start_time": "2017-12-09T07:55:55.944855Z"
    },
    "scrolled": true
   },
   "outputs": [
    {
     "data": {
      "text/html": [
       "<div>\n",
       "<style>\n",
       "    .dataframe thead tr:only-child th {\n",
       "        text-align: right;\n",
       "    }\n",
       "\n",
       "    .dataframe thead th {\n",
       "        text-align: left;\n",
       "    }\n",
       "\n",
       "    .dataframe tbody tr th {\n",
       "        vertical-align: top;\n",
       "    }\n",
       "</style>\n",
       "<table border=\"1\" class=\"dataframe\">\n",
       "  <thead>\n",
       "    <tr style=\"text-align: right;\">\n",
       "      <th></th>\n",
       "      <th>gdp</th>\n",
       "      <th>gini</th>\n",
       "      <th>gdp_per_capita</th>\n",
       "      <th>population_density</th>\n",
       "    </tr>\n",
       "  </thead>\n",
       "  <tbody>\n",
       "    <tr>\n",
       "      <th>Kazakhstan</th>\n",
       "      <td>156.189</td>\n",
       "      <td>26.4</td>\n",
       "      <td>8683.082740</td>\n",
       "      <td>6.601246</td>\n",
       "    </tr>\n",
       "    <tr>\n",
       "      <th>Kyrgyzstan</th>\n",
       "      <td>7.061</td>\n",
       "      <td>27.4</td>\n",
       "      <td>1173.024912</td>\n",
       "      <td>30.104776</td>\n",
       "    </tr>\n",
       "    <tr>\n",
       "      <th>Tajikistan</th>\n",
       "      <td>27.802</td>\n",
       "      <td>30.8</td>\n",
       "      <td>3182.845559</td>\n",
       "      <td>61.040887</td>\n",
       "    </tr>\n",
       "    <tr>\n",
       "      <th>Turkmenistan</th>\n",
       "      <td>42.355</td>\n",
       "      <td>40.8</td>\n",
       "      <td>7479.853578</td>\n",
       "      <td>11.527746</td>\n",
       "    </tr>\n",
       "    <tr>\n",
       "      <th>Uzbekistan</th>\n",
       "      <td>68.324</td>\n",
       "      <td>36.7</td>\n",
       "      <td>2071.742624</td>\n",
       "      <td>73.453488</td>\n",
       "    </tr>\n",
       "  </tbody>\n",
       "</table>\n",
       "</div>"
      ],
      "text/plain": [
       "                  gdp  gini  gdp_per_capita  population_density\n",
       "Kazakhstan    156.189  26.4     8683.082740            6.601246\n",
       "Kyrgyzstan      7.061  27.4     1173.024912           30.104776\n",
       "Tajikistan     27.802  30.8     3182.845559           61.040887\n",
       "Turkmenistan   42.355  40.8     7479.853578           11.527746\n",
       "Uzbekistan     68.324  36.7     2071.742624           73.453488"
      ]
     },
     "execution_count": 43,
     "metadata": {},
     "output_type": "execute_result"
    }
   ],
   "source": [
    "central_asia.iloc[1:, 2:]"
   ]
  }
 ],
 "metadata": {
  "hide_input": false,
  "kernelspec": {
   "display_name": "Python 3",
   "language": "python",
   "name": "python3"
  },
  "language_info": {
   "codemirror_mode": {
    "name": "ipython",
    "version": 3
   },
   "file_extension": ".py",
   "mimetype": "text/x-python",
   "name": "python",
   "nbconvert_exporter": "python",
   "pygments_lexer": "ipython3",
   "version": "3.6.1"
  },
  "varInspector": {
   "cols": {
    "lenName": 16,
    "lenType": 16,
    "lenVar": 40
   },
   "kernels_config": {
    "python": {
     "delete_cmd_postfix": "",
     "delete_cmd_prefix": "del ",
     "library": "var_list.py",
     "varRefreshCmd": "print(var_dic_list())"
    },
    "r": {
     "delete_cmd_postfix": ") ",
     "delete_cmd_prefix": "rm(",
     "library": "var_list.r",
     "varRefreshCmd": "cat(var_dic_list()) "
    }
   },
   "types_to_exclude": [
    "module",
    "function",
    "builtin_function_or_method",
    "instance",
    "_Feature"
   ],
   "window_display": false
  }
 },
 "nbformat": 4,
 "nbformat_minor": 2
}
