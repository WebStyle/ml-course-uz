{
 "cells": [
  {
   "cell_type": "markdown",
   "metadata": {},
   "source": [
    "# Задания по NumPy\n",
    "В данной тетради вам необходимо выполнить несколько задач по NumPy. Для некоторых задач необходимо найти подходящие функции в документации NumPy. Вы можете пользоваться поиском в интернете для этого. Задания необходимо выполнить без использования циклов с помощью векторизованых вычислений.\n",
    "\n",
    "Для начала симпортируйте библиотеку `numpy` с алиасом `np`"
   ]
  },
  {
   "cell_type": "code",
   "execution_count": null,
   "metadata": {
    "ExecuteTime": {
     "end_time": "2017-12-31T09:16:42.691170Z",
     "start_time": "2017-12-31T09:16:42.082170Z"
    },
    "collapsed": true
   },
   "outputs": [],
   "source": []
  },
  {
   "cell_type": "markdown",
   "metadata": {},
   "source": [
    "#### 1. Создайте массив целых чисел от 1 до 10 включительно"
   ]
  },
  {
   "cell_type": "code",
   "execution_count": null,
   "metadata": {
    "ExecuteTime": {
     "end_time": "2017-12-31T09:21:10.212524Z",
     "start_time": "2017-12-31T09:21:10.204025Z"
    },
    "collapsed": true
   },
   "outputs": [],
   "source": []
  },
  {
   "cell_type": "markdown",
   "metadata": {},
   "source": [
    "#### 2. Вычислите факториал для каждого числа массива целых чисел от 1 до 10 включительно  с помощью функции NumPy \n",
    "Подсказка: воспользуйтесь одной из кумулятивных функций"
   ]
  },
  {
   "cell_type": "code",
   "execution_count": null,
   "metadata": {
    "ExecuteTime": {
     "end_time": "2017-12-31T09:29:57.216561Z",
     "start_time": "2017-12-31T09:29:57.209564Z"
    },
    "collapsed": true
   },
   "outputs": [],
   "source": []
  },
  {
   "cell_type": "markdown",
   "metadata": {
    "ExecuteTime": {
     "end_time": "2017-12-31T09:57:42.051497Z",
     "start_time": "2017-12-31T09:57:42.045996Z"
    }
   },
   "source": [
    "#### 3. Создайте массив целых чисел от 1 до 10 включительно и затем переверните этот массив с помощью срезов (slices)"
   ]
  },
  {
   "cell_type": "code",
   "execution_count": null,
   "metadata": {
    "collapsed": true
   },
   "outputs": [],
   "source": []
  },
  {
   "cell_type": "markdown",
   "metadata": {},
   "source": [
    "#### 4. Создайте массив целых чисел от -10 до 10 включительно и вычислите отдельно сумму отрицательных и положительных чисел используя булевые маски"
   ]
  },
  {
   "cell_type": "code",
   "execution_count": null,
   "metadata": {
    "collapsed": true
   },
   "outputs": [],
   "source": []
  },
  {
   "cell_type": "markdown",
   "metadata": {},
   "source": [
    "####  5. Создайте массив случайных целых чисел от 1 до 100 размером 5 x 5 и найдите минимум, максимум и среднее значение массива"
   ]
  },
  {
   "cell_type": "code",
   "execution_count": null,
   "metadata": {
    "collapsed": true
   },
   "outputs": [],
   "source": []
  },
  {
   "cell_type": "markdown",
   "metadata": {},
   "source": [
    "####  6. В следующих трех задачах необходимо нормализовать строки двухмерного массива. Для начала создайте массив от 1 до 25 включительно размером 5 x 5"
   ]
  },
  {
   "cell_type": "code",
   "execution_count": null,
   "metadata": {
    "collapsed": true
   },
   "outputs": [],
   "source": []
  },
  {
   "cell_type": "markdown",
   "metadata": {},
   "source": [
    "####  7. Вычислите минимум и максимум каждой строки массива. В результате у вас должны получиться два массива размера 5. С помощью функции `reshape` переверните эти два массива, чтобы получить массив в столбец размером 5 x 1\n",
    "```python\n",
    "min = [[ 0],\n",
    "       [ 5],\n",
    "       [10],\n",
    "       [15],\n",
    "       [20]]\n",
    "\n",
    "max = [[ 4],\n",
    "       [ 9],\n",
    "       [14],\n",
    "       [19],\n",
    "       [24]]\n",
    "```"
   ]
  },
  {
   "cell_type": "code",
   "execution_count": null,
   "metadata": {
    "collapsed": true
   },
   "outputs": [],
   "source": []
  },
  {
   "cell_type": "markdown",
   "metadata": {},
   "source": [
    "####  8. Нормализуйте каждую строку массива из предыдущей задачи используя вычисленные минимумы и максимумы строк. Для нормализации необходимо вычесть из каждой строки её минимум и результат поделить на максимум каждой строки\n",
    "$$\n",
    "normalized = \\frac{x - min}{max}\n",
    "$$"
   ]
  },
  {
   "cell_type": "code",
   "execution_count": null,
   "metadata": {
    "collapsed": true
   },
   "outputs": [],
   "source": []
  },
  {
   "cell_type": "markdown",
   "metadata": {},
   "source": [
    "####  9. Создайте массив случайных целых чисел от 0 до 100 размером 10. Замените минимальный элемент этого массива на 0 и максимальный на 100. Вам необходимо использовать функцию, которая возвращает аргумент минимального и максимального элементов"
   ]
  },
  {
   "cell_type": "code",
   "execution_count": null,
   "metadata": {
    "collapsed": true
   },
   "outputs": [],
   "source": []
  },
  {
   "cell_type": "markdown",
   "metadata": {},
   "source": [
    "#### 10. Допустим у нас есть двухмерных массив, который содержит координаты двух точек в декартовой системе координат. Вычислите расстояние между этими точками с помощью теоремы пифагора.\n",
    "$$\n",
    "\\begin{align}\n",
    "P &= \\begin{bmatrix}\n",
    "        x_1 & y_1\\\\\n",
    "        x_2 & y_2\n",
    "     \\end{bmatrix}\n",
    "\\end{align} \\\\\n",
    "Distance = \\sqrt{(x_2 - x_1)^2 + (y_2 - y_1)^2}\n",
    "$$\n",
    "Необходимо выполнить данное задание с помощью векторизованных вычислений без циклов"
   ]
  },
  {
   "cell_type": "code",
   "execution_count": null,
   "metadata": {
    "collapsed": true
   },
   "outputs": [],
   "source": [
    "p = np.array([[1, 1],  # x1, y1\n",
    "              [4, 5]]) # x2, y2"
   ]
  },
  {
   "cell_type": "markdown",
   "metadata": {},
   "source": [
    "#### 11. Создайте массив от -2 до 3 включительно и вычислите следующее выражение\n",
    "$$\n",
    "\\frac{1}{1 + e^{-(a_0 + a_1 + \\cdots + a_5)}}\n",
    "$$\n",
    "Для вычисления $e^x$ используйте функцию `np.exp`"
   ]
  },
  {
   "cell_type": "code",
   "execution_count": null,
   "metadata": {
    "collapsed": true
   },
   "outputs": [],
   "source": []
  },
  {
   "cell_type": "markdown",
   "metadata": {},
   "source": [
    "#### 12. Допустим у нас есть n точек. Расстояние между каждыми парами точек даны с помощью двухмерного массива размером n x n (матрица расстояний). Используя этот массив расстояний создайте новый массив, в котором в каждой строке должны быть номера точек от ближайшей до самой дальней. Нумерация точек должна начинаться с 1. Например, если есть три точки и рассотяния между ними даные с помощью массива 3 x 3, то необходимо получить следубщий результат:\n",
    "$$\n",
    "\\begin{align}\n",
    "    \\begin{bmatrix}\n",
    "        0 & 7 & 3 \\\\\n",
    "        7 & 0 & 21 \\\\\n",
    "        3 & 21 & 0\n",
    "     \\end{bmatrix} \\implies \\begin{bmatrix}\n",
    "        1 & 3 & 2 \\\\\n",
    "        2 & 1 & 3 \\\\\n",
    "        3 & 1 & 2\n",
    "      \\end{bmatrix}\n",
    "\\end{align}\n",
    "$$\n",
    "Подсказка: воспользуйтесь функцией, которая возвращает аргументы отсортированного массива"
   ]
  },
  {
   "cell_type": "code",
   "execution_count": null,
   "metadata": {
    "collapsed": true
   },
   "outputs": [],
   "source": [
    "d = np.array([0, 21, 17],\n",
    "             [21, 0, 42],\n",
    "             [17, 42, 0])"
   ]
  }
 ],
 "metadata": {
  "hide_input": false,
  "kernelspec": {
   "display_name": "Python 3",
   "language": "python",
   "name": "python3"
  },
  "language_info": {
   "codemirror_mode": {
    "name": "ipython",
    "version": 3
   },
   "file_extension": ".py",
   "mimetype": "text/x-python",
   "name": "python",
   "nbconvert_exporter": "python",
   "pygments_lexer": "ipython3",
   "version": "3.6.1"
  },
  "varInspector": {
   "cols": {
    "lenName": 16,
    "lenType": 16,
    "lenVar": 40
   },
   "kernels_config": {
    "python": {
     "delete_cmd_postfix": "",
     "delete_cmd_prefix": "del ",
     "library": "var_list.py",
     "varRefreshCmd": "print(var_dic_list())"
    },
    "r": {
     "delete_cmd_postfix": ") ",
     "delete_cmd_prefix": "rm(",
     "library": "var_list.r",
     "varRefreshCmd": "cat(var_dic_list()) "
    }
   },
   "types_to_exclude": [
    "module",
    "function",
    "builtin_function_or_method",
    "instance",
    "_Feature"
   ],
   "window_display": false
  }
 },
 "nbformat": 4,
 "nbformat_minor": 2
}
